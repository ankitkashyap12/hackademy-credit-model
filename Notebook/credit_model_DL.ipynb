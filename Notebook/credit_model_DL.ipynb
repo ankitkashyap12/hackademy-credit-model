{
 "cells": [
  {
   "cell_type": "code",
   "execution_count": 1,
   "metadata": {},
   "outputs": [],
   "source": [
    "import pandas as pd\n",
    "import numpy as np\n",
    "import matplotlib.pyplot as plt\n",
    "import seaborn as sns\n",
    "import warnings\n",
    "import xgboost as xgb\n",
    "import random\n",
    "from scipy import stats\n",
    "\n",
    "warnings.filterwarnings('ignore')"
   ]
  },
  {
   "cell_type": "code",
   "execution_count": 2,
   "metadata": {},
   "outputs": [],
   "source": [
    "from sklearn.ensemble import GradientBoostingClassifier ,RandomForestClassifier\n",
    "from sklearn.linear_model import LogisticRegression\n",
    "from sklearn.svm import SVC\n",
    "\n",
    "from sklearn.metrics import roc_curve, auc\n",
    "from sklearn.metrics import confusion_matrix\n",
    "from sklearn.metrics import precision_score,recall_score, confusion_matrix, classification_report,accuracy_score, f1_score\n",
    "from sklearn.metrics import roc_curve, auc, roc_auc_score\n",
    "\n",
    "from sklearn.model_selection import GridSearchCV, cross_val_score\n",
    "from sklearn.decomposition import PCA"
   ]
  },
  {
   "cell_type": "code",
   "execution_count": 3,
   "metadata": {},
   "outputs": [],
   "source": [
    "# pip install keras"
   ]
  },
  {
   "cell_type": "code",
   "execution_count": 4,
   "metadata": {},
   "outputs": [],
   "source": [
    "# pip install tensorflow"
   ]
  },
  {
   "cell_type": "code",
   "execution_count": null,
   "metadata": {},
   "outputs": [],
   "source": []
  },
  {
   "cell_type": "code",
   "execution_count": null,
   "metadata": {},
   "outputs": [],
   "source": []
  },
  {
   "cell_type": "code",
   "execution_count": 3,
   "metadata": {},
   "outputs": [],
   "source": [
    "from xgboost import XGBClassifier\n",
    "from keras import models\n",
    "from keras import layers\n",
    "\n"
   ]
  },
  {
   "cell_type": "code",
   "execution_count": 4,
   "metadata": {},
   "outputs": [],
   "source": [
    "sampleEntry = pd.read_csv('C:/Users/ankit/Desktop/Hackademy/Notebook/Datasets/sampleEntry.csv')\n",
    "train = pd.read_csv('C:/Users/ankit/Desktop/Hackademy/Notebook/Datasets/cs-training.csv')\n",
    "test = pd.read_csv('C:/Users/ankit/Desktop/Hackademy/Notebook/Datasets/cs-test.csv')"
   ]
  },
  {
   "cell_type": "code",
   "execution_count": null,
   "metadata": {},
   "outputs": [],
   "source": []
  },
  {
   "cell_type": "code",
   "execution_count": 5,
   "metadata": {},
   "outputs": [],
   "source": [
    "train['MonthlyIncome'].fillna(train['MonthlyIncome'].mean(),inplace=True)\n",
    "train['NumberOfDependents'].fillna(train['NumberOfDependents'].mode()[0], inplace=True)\n",
    "test['MonthlyIncome'].fillna(test['MonthlyIncome'].mean(),inplace=True)\n",
    "test['NumberOfDependents'].fillna(test['NumberOfDependents'].mode()[0], inplace=True)"
   ]
  },
  {
   "cell_type": "code",
   "execution_count": 6,
   "metadata": {},
   "outputs": [
    {
     "data": {
      "image/png": "[encoded data removed]",
      "text/plain": [
       "<Figure size 432x288 with 1 Axes>"
      ]
     },
     "metadata": {
      "needs_background": "light"
     },
     "output_type": "display_data"
    }
   ],
   "source": [
    "sns.countplot(x='SeriousDlqin2yrs',data=train)\n",
    "plt.show()"
   ]
  },
  {
   "cell_type": "code",
   "execution_count": 128,
   "metadata": {},
   "outputs": [
    {
     "ename": "AttributeError",
     "evalue": "'Series' object has no attribute 'column'",
     "output_type": "error",
     "traceback": [
      "\u001b[1;31m---------------------------------------------------------------------------\u001b[0m",
      "\u001b[1;31mAttributeError\u001b[0m                            Traceback (most recent call last)",
      "\u001b[1;32m<ipython-input-128-5e21170bb2aa>\u001b[0m in \u001b[0;36m<module>\u001b[1;34m\u001b[0m\n\u001b[0;32m      1\u001b[0m \u001b[1;31m# print(\"Default Rate: {}%\".format(round(train[\"SeriousDlqin2yrs\"].sum()*100 / len(train), 2)))\u001b[0m\u001b[1;33m\u001b[0m\u001b[1;33m\u001b[0m\u001b[1;33m\u001b[0m\u001b[0m\n\u001b[1;32m----> 2\u001b[1;33m \u001b[0mtrain\u001b[0m\u001b[1;33m.\u001b[0m\u001b[0mcolumn\u001b[0m\u001b[1;33m\u001b[0m\u001b[1;33m\u001b[0m\u001b[0m\n\u001b[0m",
      "\u001b[1;32m~\\anaconda3\\lib\\site-packages\\pandas\\core\\generic.py\u001b[0m in \u001b[0;36m__getattr__\u001b[1;34m(self, name)\u001b[0m\n\u001b[0;32m   5272\u001b[0m             \u001b[1;32mif\u001b[0m \u001b[0mself\u001b[0m\u001b[1;33m.\u001b[0m\u001b[0m_info_axis\u001b[0m\u001b[1;33m.\u001b[0m\u001b[0m_can_hold_identifiers_and_holds_name\u001b[0m\u001b[1;33m(\u001b[0m\u001b[0mname\u001b[0m\u001b[1;33m)\u001b[0m\u001b[1;33m:\u001b[0m\u001b[1;33m\u001b[0m\u001b[1;33m\u001b[0m\u001b[0m\n\u001b[0;32m   5273\u001b[0m                 \u001b[1;32mreturn\u001b[0m \u001b[0mself\u001b[0m\u001b[1;33m[\u001b[0m\u001b[0mname\u001b[0m\u001b[1;33m]\u001b[0m\u001b[1;33m\u001b[0m\u001b[1;33m\u001b[0m\u001b[0m\n\u001b[1;32m-> 5274\u001b[1;33m             \u001b[1;32mreturn\u001b[0m \u001b[0mobject\u001b[0m\u001b[1;33m.\u001b[0m\u001b[0m__getattribute__\u001b[0m\u001b[1;33m(\u001b[0m\u001b[0mself\u001b[0m\u001b[1;33m,\u001b[0m \u001b[0mname\u001b[0m\u001b[1;33m)\u001b[0m\u001b[1;33m\u001b[0m\u001b[1;33m\u001b[0m\u001b[0m\n\u001b[0m\u001b[0;32m   5275\u001b[0m \u001b[1;33m\u001b[0m\u001b[0m\n\u001b[0;32m   5276\u001b[0m     \u001b[1;32mdef\u001b[0m \u001b[0m__setattr__\u001b[0m\u001b[1;33m(\u001b[0m\u001b[0mself\u001b[0m\u001b[1;33m,\u001b[0m \u001b[0mname\u001b[0m\u001b[1;33m:\u001b[0m \u001b[0mstr\u001b[0m\u001b[1;33m,\u001b[0m \u001b[0mvalue\u001b[0m\u001b[1;33m)\u001b[0m \u001b[1;33m->\u001b[0m \u001b[1;32mNone\u001b[0m\u001b[1;33m:\u001b[0m\u001b[1;33m\u001b[0m\u001b[1;33m\u001b[0m\u001b[0m\n",
      "\u001b[1;31mAttributeError\u001b[0m: 'Series' object has no attribute 'column'"
     ]
    }
   ],
   "source": [
    "# print(\"Default Rate: {}%\".format(round(train[\"SeriousDlqin2yrs\"].sum()*100 / len(train), 2)))\n",
    "train.column"
   ]
  },
  {
   "cell_type": "code",
   "execution_count": 7,
   "metadata": {},
   "outputs": [
    {
     "data": {
      "text/html": [
       "<div>\n",
       "<style scoped>\n",
       "    .dataframe tbody tr th:only-of-type {\n",
       "        vertical-align: middle;\n",
       "    }\n",
       "\n",
       "    .dataframe tbody tr th {\n",
       "        vertical-align: top;\n",
       "    }\n",
       "\n",
       "    .dataframe thead th {\n",
       "        text-align: right;\n",
       "    }\n",
       "</style>\n",
       "<table border=\"1\" class=\"dataframe\">\n",
       "  <thead>\n",
       "    <tr style=\"text-align: right;\">\n",
       "      <th></th>\n",
       "      <th>Unnamed: 0</th>\n",
       "      <th>SeriousDlqin2yrs</th>\n",
       "      <th>RevolvingUtilizationOfUnsecuredLines</th>\n",
       "      <th>age</th>\n",
       "      <th>NumberOfTime30-59DaysPastDueNotWorse</th>\n",
       "      <th>DebtRatio</th>\n",
       "      <th>MonthlyIncome</th>\n",
       "      <th>NumberOfOpenCreditLinesAndLoans</th>\n",
       "      <th>NumberOfTimes90DaysLate</th>\n",
       "      <th>NumberRealEstateLoansOrLines</th>\n",
       "      <th>NumberOfTime60-89DaysPastDueNotWorse</th>\n",
       "      <th>NumberOfDependents</th>\n",
       "    </tr>\n",
       "  </thead>\n",
       "  <tbody>\n",
       "    <tr>\n",
       "      <th>count</th>\n",
       "      <td>150000.000000</td>\n",
       "      <td>150000.000000</td>\n",
       "      <td>150000.000000</td>\n",
       "      <td>150000.000000</td>\n",
       "      <td>150000.000000</td>\n",
       "      <td>150000.000000</td>\n",
       "      <td>1.500000e+05</td>\n",
       "      <td>150000.000000</td>\n",
       "      <td>150000.000000</td>\n",
       "      <td>150000.000000</td>\n",
       "      <td>150000.000000</td>\n",
       "      <td>150000.000000</td>\n",
       "    </tr>\n",
       "    <tr>\n",
       "      <th>mean</th>\n",
       "      <td>75000.500000</td>\n",
       "      <td>0.066840</td>\n",
       "      <td>6.048438</td>\n",
       "      <td>52.295207</td>\n",
       "      <td>0.421033</td>\n",
       "      <td>353.005076</td>\n",
       "      <td>6.670221e+03</td>\n",
       "      <td>8.452760</td>\n",
       "      <td>0.265973</td>\n",
       "      <td>1.018240</td>\n",
       "      <td>0.240387</td>\n",
       "      <td>0.737413</td>\n",
       "    </tr>\n",
       "    <tr>\n",
       "      <th>std</th>\n",
       "      <td>43301.414527</td>\n",
       "      <td>0.249746</td>\n",
       "      <td>249.755371</td>\n",
       "      <td>14.771866</td>\n",
       "      <td>4.192781</td>\n",
       "      <td>2037.818523</td>\n",
       "      <td>1.288045e+04</td>\n",
       "      <td>5.145951</td>\n",
       "      <td>4.169304</td>\n",
       "      <td>1.129771</td>\n",
       "      <td>4.155179</td>\n",
       "      <td>1.107021</td>\n",
       "    </tr>\n",
       "    <tr>\n",
       "      <th>min</th>\n",
       "      <td>1.000000</td>\n",
       "      <td>0.000000</td>\n",
       "      <td>0.000000</td>\n",
       "      <td>0.000000</td>\n",
       "      <td>0.000000</td>\n",
       "      <td>0.000000</td>\n",
       "      <td>0.000000e+00</td>\n",
       "      <td>0.000000</td>\n",
       "      <td>0.000000</td>\n",
       "      <td>0.000000</td>\n",
       "      <td>0.000000</td>\n",
       "      <td>0.000000</td>\n",
       "    </tr>\n",
       "    <tr>\n",
       "      <th>25%</th>\n",
       "      <td>37500.750000</td>\n",
       "      <td>0.000000</td>\n",
       "      <td>0.029867</td>\n",
       "      <td>41.000000</td>\n",
       "      <td>0.000000</td>\n",
       "      <td>0.175074</td>\n",
       "      <td>3.903000e+03</td>\n",
       "      <td>5.000000</td>\n",
       "      <td>0.000000</td>\n",
       "      <td>0.000000</td>\n",
       "      <td>0.000000</td>\n",
       "      <td>0.000000</td>\n",
       "    </tr>\n",
       "    <tr>\n",
       "      <th>50%</th>\n",
       "      <td>75000.500000</td>\n",
       "      <td>0.000000</td>\n",
       "      <td>0.154181</td>\n",
       "      <td>52.000000</td>\n",
       "      <td>0.000000</td>\n",
       "      <td>0.366508</td>\n",
       "      <td>6.600000e+03</td>\n",
       "      <td>8.000000</td>\n",
       "      <td>0.000000</td>\n",
       "      <td>1.000000</td>\n",
       "      <td>0.000000</td>\n",
       "      <td>0.000000</td>\n",
       "    </tr>\n",
       "    <tr>\n",
       "      <th>75%</th>\n",
       "      <td>112500.250000</td>\n",
       "      <td>0.000000</td>\n",
       "      <td>0.559046</td>\n",
       "      <td>63.000000</td>\n",
       "      <td>0.000000</td>\n",
       "      <td>0.868254</td>\n",
       "      <td>7.400000e+03</td>\n",
       "      <td>11.000000</td>\n",
       "      <td>0.000000</td>\n",
       "      <td>2.000000</td>\n",
       "      <td>0.000000</td>\n",
       "      <td>1.000000</td>\n",
       "    </tr>\n",
       "    <tr>\n",
       "      <th>max</th>\n",
       "      <td>150000.000000</td>\n",
       "      <td>1.000000</td>\n",
       "      <td>50708.000000</td>\n",
       "      <td>109.000000</td>\n",
       "      <td>98.000000</td>\n",
       "      <td>329664.000000</td>\n",
       "      <td>3.008750e+06</td>\n",
       "      <td>58.000000</td>\n",
       "      <td>98.000000</td>\n",
       "      <td>54.000000</td>\n",
       "      <td>98.000000</td>\n",
       "      <td>20.000000</td>\n",
       "    </tr>\n",
       "  </tbody>\n",
       "</table>\n",
       "</div>"
      ],
      "text/plain": [
       "          Unnamed: 0  SeriousDlqin2yrs  RevolvingUtilizationOfUnsecuredLines  \\\n",
       "count  150000.000000     150000.000000                         150000.000000   \n",
       "mean    75000.500000          0.066840                              6.048438   \n",
       "std     43301.414527          0.249746                            249.755371   \n",
       "min         1.000000          0.000000                              0.000000   \n",
       "25%     37500.750000          0.000000                              0.029867   \n",
       "50%     75000.500000          0.000000                              0.154181   \n",
       "75%    112500.250000          0.000000                              0.559046   \n",
       "max    150000.000000          1.000000                          50708.000000   \n",
       "\n",
       "                 age  NumberOfTime30-59DaysPastDueNotWorse      DebtRatio  \\\n",
       "count  150000.000000                         150000.000000  150000.000000   \n",
       "mean       52.295207                              0.421033     353.005076   \n",
       "std        14.771866                              4.192781    2037.818523   \n",
       "min         0.000000                              0.000000       0.000000   \n",
       "25%        41.000000                              0.000000       0.175074   \n",
       "50%        52.000000                              0.000000       0.366508   \n",
       "75%        63.000000                              0.000000       0.868254   \n",
       "max       109.000000                             98.000000  329664.000000   \n",
       "\n",
       "       MonthlyIncome  NumberOfOpenCreditLinesAndLoans  \\\n",
       "count   1.500000e+05                    150000.000000   \n",
       "mean    6.670221e+03                         8.452760   \n",
       "std     1.288045e+04                         5.145951   \n",
       "min     0.000000e+00                         0.000000   \n",
       "25%     3.903000e+03                         5.000000   \n",
       "50%     6.600000e+03                         8.000000   \n",
       "75%     7.400000e+03                        11.000000   \n",
       "max     3.008750e+06                        58.000000   \n",
       "\n",
       "       NumberOfTimes90DaysLate  NumberRealEstateLoansOrLines  \\\n",
       "count            150000.000000                 150000.000000   \n",
       "mean                  0.265973                      1.018240   \n",
       "std                   4.169304                      1.129771   \n",
       "min                   0.000000                      0.000000   \n",
       "25%                   0.000000                      0.000000   \n",
       "50%                   0.000000                      1.000000   \n",
       "75%                   0.000000                      2.000000   \n",
       "max                  98.000000                     54.000000   \n",
       "\n",
       "       NumberOfTime60-89DaysPastDueNotWorse  NumberOfDependents  \n",
       "count                         150000.000000       150000.000000  \n",
       "mean                               0.240387            0.737413  \n",
       "std                                4.155179            1.107021  \n",
       "min                                0.000000            0.000000  \n",
       "25%                                0.000000            0.000000  \n",
       "50%                                0.000000            0.000000  \n",
       "75%                                0.000000            1.000000  \n",
       "max                               98.000000           20.000000  "
      ]
     },
     "execution_count": 7,
     "metadata": {},
     "output_type": "execute_result"
    }
   ],
   "source": [
    "train.describe()"
   ]
  },
  {
   "cell_type": "code",
   "execution_count": 8,
   "metadata": {},
   "outputs": [],
   "source": [
    "train_cleaned=train.drop(\"Unnamed: 0\",1)\n",
    "test_cleaned=test.drop(\"Unnamed: 0\",1)\n",
    "\n",
    "train_cleaned=train_cleaned.drop(\"RevolvingUtilizationOfUnsecuredLines\",1)\n",
    "test_cleaned=test_cleaned.drop(\"RevolvingUtilizationOfUnsecuredLines\",1)\n",
    "\n",
    "train_cleaned=train_cleaned.drop(\"DebtRatio\",1)\n",
    "test_cleaned=test_cleaned.drop(\"DebtRatio\",1)\n",
    "\n",
    "train_cleaned=train_cleaned.drop(\"NumberRealEstateLoansOrLines\",1)\n",
    "test_cleaned=test_cleaned.drop(\"NumberRealEstateLoansOrLines\",1)\n",
    "\n",
    "train_cleaned=train_cleaned.drop(\"NumberOfTime60-89DaysPastDueNotWorse\",1)\n",
    "test_cleaned=test_cleaned.drop(\"NumberOfTime60-89DaysPastDueNotWorse\",1)\n",
    "\n",
    "train_cleaned=train_cleaned.drop(\"NumberOfDependents\",1)\n",
    "test_cleaned=test_cleaned.drop(\"NumberOfDependents\",1)\n",
    "\n",
    "train_cleaned=train_cleaned.drop(\"NumberOfTime30-59DaysPastDueNotWorse\",1)\n",
    "test_cleaned=test_cleaned.drop(\"NumberOfTime30-59DaysPastDueNotWorse\",1)"
   ]
  },
  {
   "cell_type": "code",
   "execution_count": 10,
   "metadata": {},
   "outputs": [
    {
     "data": {
      "text/html": [
       "<div>\n",
       "<style scoped>\n",
       "    .dataframe tbody tr th:only-of-type {\n",
       "        vertical-align: middle;\n",
       "    }\n",
       "\n",
       "    .dataframe tbody tr th {\n",
       "        vertical-align: top;\n",
       "    }\n",
       "\n",
       "    .dataframe thead th {\n",
       "        text-align: right;\n",
       "    }\n",
       "</style>\n",
       "<table border=\"1\" class=\"dataframe\">\n",
       "  <thead>\n",
       "    <tr style=\"text-align: right;\">\n",
       "      <th></th>\n",
       "      <th>SeriousDlqin2yrs</th>\n",
       "      <th>age</th>\n",
       "      <th>MonthlyIncome</th>\n",
       "      <th>NumberOfOpenCreditLinesAndLoans</th>\n",
       "      <th>NumberOfTimes90DaysLate</th>\n",
       "    </tr>\n",
       "  </thead>\n",
       "  <tbody>\n",
       "    <tr>\n",
       "      <th>count</th>\n",
       "      <td>150000.000000</td>\n",
       "      <td>150000.000000</td>\n",
       "      <td>1.500000e+05</td>\n",
       "      <td>150000.000000</td>\n",
       "      <td>150000.000000</td>\n",
       "    </tr>\n",
       "    <tr>\n",
       "      <th>mean</th>\n",
       "      <td>0.066840</td>\n",
       "      <td>52.295207</td>\n",
       "      <td>6.670221e+03</td>\n",
       "      <td>8.452760</td>\n",
       "      <td>0.265973</td>\n",
       "    </tr>\n",
       "    <tr>\n",
       "      <th>std</th>\n",
       "      <td>0.249746</td>\n",
       "      <td>14.771866</td>\n",
       "      <td>1.288045e+04</td>\n",
       "      <td>5.145951</td>\n",
       "      <td>4.169304</td>\n",
       "    </tr>\n",
       "    <tr>\n",
       "      <th>min</th>\n",
       "      <td>0.000000</td>\n",
       "      <td>0.000000</td>\n",
       "      <td>0.000000e+00</td>\n",
       "      <td>0.000000</td>\n",
       "      <td>0.000000</td>\n",
       "    </tr>\n",
       "    <tr>\n",
       "      <th>25%</th>\n",
       "      <td>0.000000</td>\n",
       "      <td>41.000000</td>\n",
       "      <td>3.903000e+03</td>\n",
       "      <td>5.000000</td>\n",
       "      <td>0.000000</td>\n",
       "    </tr>\n",
       "    <tr>\n",
       "      <th>50%</th>\n",
       "      <td>0.000000</td>\n",
       "      <td>52.000000</td>\n",
       "      <td>6.600000e+03</td>\n",
       "      <td>8.000000</td>\n",
       "      <td>0.000000</td>\n",
       "    </tr>\n",
       "    <tr>\n",
       "      <th>75%</th>\n",
       "      <td>0.000000</td>\n",
       "      <td>63.000000</td>\n",
       "      <td>7.400000e+03</td>\n",
       "      <td>11.000000</td>\n",
       "      <td>0.000000</td>\n",
       "    </tr>\n",
       "    <tr>\n",
       "      <th>max</th>\n",
       "      <td>1.000000</td>\n",
       "      <td>109.000000</td>\n",
       "      <td>3.008750e+06</td>\n",
       "      <td>58.000000</td>\n",
       "      <td>98.000000</td>\n",
       "    </tr>\n",
       "  </tbody>\n",
       "</table>\n",
       "</div>"
      ],
      "text/plain": [
       "       SeriousDlqin2yrs            age  MonthlyIncome  \\\n",
       "count     150000.000000  150000.000000   1.500000e+05   \n",
       "mean           0.066840      52.295207   6.670221e+03   \n",
       "std            0.249746      14.771866   1.288045e+04   \n",
       "min            0.000000       0.000000   0.000000e+00   \n",
       "25%            0.000000      41.000000   3.903000e+03   \n",
       "50%            0.000000      52.000000   6.600000e+03   \n",
       "75%            0.000000      63.000000   7.400000e+03   \n",
       "max            1.000000     109.000000   3.008750e+06   \n",
       "\n",
       "       NumberOfOpenCreditLinesAndLoans  NumberOfTimes90DaysLate  \n",
       "count                    150000.000000            150000.000000  \n",
       "mean                          8.452760                 0.265973  \n",
       "std                           5.145951                 4.169304  \n",
       "min                           0.000000                 0.000000  \n",
       "25%                           5.000000                 0.000000  \n",
       "50%                           8.000000                 0.000000  \n",
       "75%                          11.000000                 0.000000  \n",
       "max                          58.000000                98.000000  "
      ]
     },
     "execution_count": 10,
     "metadata": {},
     "output_type": "execute_result"
    }
   ],
   "source": [
    "train_cleaned.describe()"
   ]
  },
  {
   "cell_type": "code",
   "execution_count": 11,
   "metadata": {},
   "outputs": [
    {
     "data": {
      "text/html": [
       "<div>\n",
       "<style scoped>\n",
       "    .dataframe tbody tr th:only-of-type {\n",
       "        vertical-align: middle;\n",
       "    }\n",
       "\n",
       "    .dataframe tbody tr th {\n",
       "        vertical-align: top;\n",
       "    }\n",
       "\n",
       "    .dataframe thead th {\n",
       "        text-align: right;\n",
       "    }\n",
       "</style>\n",
       "<table border=\"1\" class=\"dataframe\">\n",
       "  <thead>\n",
       "    <tr style=\"text-align: right;\">\n",
       "      <th></th>\n",
       "      <th>SeriousDlqin2yrs</th>\n",
       "      <th>age</th>\n",
       "      <th>MonthlyIncome</th>\n",
       "      <th>NumberOfOpenCreditLinesAndLoans</th>\n",
       "      <th>NumberOfTimes90DaysLate</th>\n",
       "    </tr>\n",
       "  </thead>\n",
       "  <tbody>\n",
       "    <tr>\n",
       "      <th>0</th>\n",
       "      <td>1</td>\n",
       "      <td>45</td>\n",
       "      <td>9120.0</td>\n",
       "      <td>13</td>\n",
       "      <td>0</td>\n",
       "    </tr>\n",
       "    <tr>\n",
       "      <th>1</th>\n",
       "      <td>0</td>\n",
       "      <td>40</td>\n",
       "      <td>2600.0</td>\n",
       "      <td>4</td>\n",
       "      <td>0</td>\n",
       "    </tr>\n",
       "    <tr>\n",
       "      <th>2</th>\n",
       "      <td>0</td>\n",
       "      <td>38</td>\n",
       "      <td>3042.0</td>\n",
       "      <td>2</td>\n",
       "      <td>1</td>\n",
       "    </tr>\n",
       "    <tr>\n",
       "      <th>3</th>\n",
       "      <td>0</td>\n",
       "      <td>30</td>\n",
       "      <td>3300.0</td>\n",
       "      <td>5</td>\n",
       "      <td>0</td>\n",
       "    </tr>\n",
       "    <tr>\n",
       "      <th>4</th>\n",
       "      <td>0</td>\n",
       "      <td>49</td>\n",
       "      <td>63588.0</td>\n",
       "      <td>7</td>\n",
       "      <td>0</td>\n",
       "    </tr>\n",
       "  </tbody>\n",
       "</table>\n",
       "</div>"
      ],
      "text/plain": [
       "   SeriousDlqin2yrs  age  MonthlyIncome  NumberOfOpenCreditLinesAndLoans  \\\n",
       "0                 1   45         9120.0                               13   \n",
       "1                 0   40         2600.0                                4   \n",
       "2                 0   38         3042.0                                2   \n",
       "3                 0   30         3300.0                                5   \n",
       "4                 0   49        63588.0                                7   \n",
       "\n",
       "   NumberOfTimes90DaysLate  \n",
       "0                        0  \n",
       "1                        0  \n",
       "2                        1  \n",
       "3                        0  \n",
       "4                        0  "
      ]
     },
     "execution_count": 11,
     "metadata": {},
     "output_type": "execute_result"
    }
   ],
   "source": [
    "train_cleaned.head()"
   ]
  },
  {
   "cell_type": "code",
   "execution_count": 9,
   "metadata": {},
   "outputs": [
    {
     "data": {
      "text/plain": [
       "<matplotlib.axes._subplots.AxesSubplot at 0x252a05dae88>"
      ]
     },
     "execution_count": 9,
     "metadata": {},
     "output_type": "execute_result"
    },
    {
     "data": {
      "image/png": "[encoded data removed]",
      "text/plain": [
       "<Figure size 1080x504 with 2 Axes>"
      ]
     },
     "metadata": {
      "needs_background": "light"
     },
     "output_type": "display_data"
    }
   ],
   "source": [
    "corr_ = train_cleaned.corr()\n",
    "fig= plt.figure(figsize=(15,7))\n",
    "sns.heatmap(corr_, cmap = plt.cm.RdYlBu_r, vmin = -0.9, annot = True, vmax = 0.9)"
   ]
  },
  {
   "cell_type": "code",
   "execution_count": 10,
   "metadata": {},
   "outputs": [],
   "source": [
    "X = train_cleaned.drop('SeriousDlqin2yrs',1)\n",
    "y = train_cleaned['SeriousDlqin2yrs']"
   ]
  },
  {
   "cell_type": "code",
   "execution_count": 11,
   "metadata": {},
   "outputs": [
    {
     "name": "stdout",
     "output_type": "stream",
     "text": [
      "(120000, 4)\n",
      "(30000, 4)\n",
      "(120000,)\n",
      "(30000,)\n"
     ]
    }
   ],
   "source": [
    "from sklearn.model_selection import train_test_split\n",
    "X_train, X_test, y_train, y_test = train_test_split(X, y, test_size=0.20, random_state=568)\n",
    "print(X_train.shape)\n",
    "print(X_test.shape)\n",
    "print(y_train.shape)\n",
    "print(y_test.shape)"
   ]
  },
  {
   "cell_type": "code",
   "execution_count": 99,
   "metadata": {},
   "outputs": [
    {
     "name": "stdout",
     "output_type": "stream",
     "text": [
      "Requirement already satisfied: imblearn in c:\\users\\ankit\\anaconda3\\lib\\site-packages (0.0)\n",
      "Requirement already satisfied: imbalanced-learn in c:\\users\\ankit\\anaconda3\\lib\\site-packages (from imblearn) (0.8.0)\n",
      "Requirement already satisfied: numpy>=1.13.3 in c:\\users\\ankit\\anaconda3\\lib\\site-packages (from imbalanced-learn->imblearn) (1.19.5)\n",
      "Requirement already satisfied: scipy>=0.19.1 in c:\\users\\ankit\\anaconda3\\lib\\site-packages (from imbalanced-learn->imblearn) (1.4.1)\n",
      "Requirement already satisfied: joblib>=0.11 in c:\\users\\ankit\\anaconda3\\lib\\site-packages (from imbalanced-learn->imblearn) (0.14.1)\n",
      "Requirement already satisfied: scikit-learn>=0.24 in c:\\users\\ankit\\anaconda3\\lib\\site-packages (from imbalanced-learn->imblearn) (0.24.2)\n",
      "Requirement already satisfied: threadpoolctl>=2.0.0 in c:\\users\\ankit\\anaconda3\\lib\\site-packages (from scikit-learn>=0.24->imbalanced-learn->imblearn) (2.2.0)\n"
     ]
    }
   ],
   "source": [
    "!pip install imblearn"
   ]
  },
  {
   "cell_type": "code",
   "execution_count": 14,
   "metadata": {},
   "outputs": [],
   "source": [
    "# pip install --upgrade scikit-learn"
   ]
  },
  {
   "cell_type": "code",
   "execution_count": 100,
   "metadata": {},
   "outputs": [],
   "source": [
    "# from imblearn.over_sampling import SMOTE\n",
    "# print(\"Before OverSampling, counts of label '1': {}\".format(sum(y_train == 1))) \n",
    "# print(\"Before OverSampling, counts of label '0': {} \\n\".format(sum(y_train == 0))) \n",
    "  \n",
    "# sm = SMOTE(random_state = 2) \n",
    "# X_train_res, y_train_res = sm.fit_sample(X_train, y_train.ravel()) \n",
    "  \n",
    "# print('After OverSampling, the shape of train_X: {}'.format(X_train_res.shape)) \n",
    "# print('After OverSampling, the shape of train_y: {} \\n'.format(y_train_res.shape)) \n",
    "  \n",
    "# print(\"After OverSampling, counts of label '1': {}\".format(sum(y_train_res == 1))) \n",
    "# print(\"After OverSampling, counts of label '0': {}\".format(sum(y_train_res == 0)))"
   ]
  },
  {
   "cell_type": "code",
   "execution_count": 17,
   "metadata": {},
   "outputs": [
    {
     "data": {
      "text/plain": [
       "'0.24.2'"
      ]
     },
     "execution_count": 17,
     "metadata": {},
     "output_type": "execute_result"
    }
   ],
   "source": [
    "import sklearn\n",
    "sklearn.__version__"
   ]
  },
  {
   "cell_type": "code",
   "execution_count": 18,
   "metadata": {},
   "outputs": [
    {
     "data": {
      "text/plain": [
       "'0.8.0'"
      ]
     },
     "execution_count": 18,
     "metadata": {},
     "output_type": "execute_result"
    }
   ],
   "source": [
    "import imblearn\n",
    "imblearn.__version__"
   ]
  },
  {
   "cell_type": "code",
   "execution_count": 15,
   "metadata": {},
   "outputs": [],
   "source": [
    "# !pip install --upgrade scikit-learn\n",
    "# !pip install --upgrade imblearn"
   ]
  },
  {
   "cell_type": "code",
   "execution_count": 16,
   "metadata": {},
   "outputs": [],
   "source": [
    "def model_fit_reports(algo,X_,y_,performCV=True,printFeatureImportance=True, cv_folds=5):\n",
    "    \n",
    "    pred = algo.predict(X_)\n",
    "    accu = accuracy_score(y_, pred)\n",
    "    f1_  = f1_score(y_, pred)\n",
    "    rec  = recall_score(y_, pred)\n",
    "    prec = precision_score(y_, pred)\n",
    "\n",
    "    \n",
    "    #GINI & AUC\n",
    "    fpr, tpr, thresholds = roc_curve(y_, pred)\n",
    "    roc_auc = auc(fpr, tpr)\n",
    "    Gini   = 2*roc_auc - 1   \n",
    "    labels  = ['Accuracy','F1 Score', 'Recall', 'Precision', 'Gini', 'AUC']\n",
    "    values  = [accu,f1_,rec,prec,Gini,roc_auc]\n",
    "    \n",
    "    all_    = pd.Series(values,labels)  \n",
    "    print(all_)\n",
    "    all_.plot(kind='bar', title='Model Fit Report')   \n",
    "\n",
    "\n",
    "    if performCV:\n",
    "        cv_score = cross_val_score(algo, X_, y_, cv=cv_folds, scoring='roc_auc')\n",
    "        GINI     = 2 * cv_score -1\n",
    "        print(\"AUC : Mean - %.7g | Std - %.7g | Min - %.7g | Max - %.7g\" % (np.mean(cv_score),np.std(cv_score),np.min(cv_score),np.max(cv_score)))\n",
    "        print(\"GINI : Mean - %.7g | Std - %.7g | Min - %.7g | Max - %.7g\" % (np.mean(GINI),np.std(GINI),np.min(GINI),np.max(GINI)))\n",
    "\n",
    "    cols = list(X_.columns)\n",
    "    if printFeatureImportance:\n",
    "        feat_imp = pd.Series(algo.feature_importances_, cols).sort_values(ascending=False)\n",
    "        feat_imp.plot(kind='bar', title='Feature Importances')\n",
    "        plt.ylabel('Feature Importance Score')    \n",
    "    \n",
    "    return all_"
   ]
  },
  {
   "cell_type": "code",
   "execution_count": 18,
   "metadata": {},
   "outputs": [
    {
     "data": {
      "text/plain": [
       "LogisticRegression(random_state=2, solver='sag')"
      ]
     },
     "execution_count": 18,
     "metadata": {},
     "output_type": "execute_result"
    }
   ],
   "source": [
    "regressor = LogisticRegression(random_state =2, solver='sag', max_iter = 10**2)\n",
    "regressor.fit(X_train, y_train)"
   ]
  },
  {
   "cell_type": "code",
   "execution_count": 19,
   "metadata": {},
   "outputs": [
    {
     "name": "stdout",
     "output_type": "stream",
     "text": [
      "Accuracy     0.933133\n",
      "F1 Score     0.000000\n",
      "Recall       0.000000\n",
      "Precision    0.000000\n",
      "Gini         0.000000\n",
      "AUC          0.500000\n",
      "dtype: float64\n",
      "AUC : Mean - 0.5799495 | Std - 0.007298782 | Min - 0.5698337 | Max - 0.588603\n",
      "GINI : Mean - 0.159899 | Std - 0.01459756 | Min - 0.1396675 | Max - 0.177206\n"
     ]
    },
    {
     "data": {
      "image/png": "[encoded data removed]",
      "text/plain": [
       "<Figure size 432x288 with 1 Axes>"
      ]
     },
     "metadata": {
      "needs_background": "light"
     },
     "output_type": "display_data"
    }
   ],
   "source": [
    "train = model_fit_reports(algo =regressor ,X_ = X_train,y_ = y_train, performCV=True, printFeatureImportance=False, cv_folds=5)"
   ]
  },
  {
   "cell_type": "code",
   "execution_count": null,
   "metadata": {},
   "outputs": [],
   "source": []
  },
  {
   "cell_type": "code",
   "execution_count": null,
   "metadata": {},
   "outputs": [],
   "source": []
  },
  {
   "cell_type": "code",
   "execution_count": 25,
   "metadata": {},
   "outputs": [
    {
     "name": "stdout",
     "output_type": "stream",
     "text": [
      "Accuracy     0.933267\n",
      "F1 Score     0.000000\n",
      "Recall       0.000000\n",
      "Precision    0.000000\n",
      "Gini         0.000000\n",
      "AUC          0.500000\n",
      "dtype: float64\n",
      "AUC : Mean - 0.5889132 | Std - 0.01630574 | Min - 0.5632897 | Max - 0.614183\n",
      "GINI : Mean - 0.1778264 | Std - 0.03261148 | Min - 0.1265795 | Max - 0.2283661\n"
     ]
    },
    {
     "data": {
      "image/png": "[encoded data removed]",
      "text/plain": [
       "<Figure size 432x288 with 1 Axes>"
      ]
     },
     "metadata": {
      "needs_background": "light"
     },
     "output_type": "display_data"
    }
   ],
   "source": [
    "test  = model_fit_reports(algo =regressor ,X_ = X_test,y_ = y_test, performCV=True, printFeatureImportance=False, cv_folds=5)"
   ]
  },
  {
   "cell_type": "code",
   "execution_count": 20,
   "metadata": {},
   "outputs": [],
   "source": [
    "y_pred=regressor.predict(X_test)"
   ]
  },
  {
   "cell_type": "code",
   "execution_count": 21,
   "metadata": {},
   "outputs": [
    {
     "data": {
      "text/plain": [
       "array([0, 0, 0, ..., 0, 0, 0], dtype=int64)"
      ]
     },
     "execution_count": 21,
     "metadata": {},
     "output_type": "execute_result"
    }
   ],
   "source": [
    "y_pred"
   ]
  },
  {
   "cell_type": "code",
   "execution_count": 23,
   "metadata": {},
   "outputs": [
    {
     "data": {
      "text/plain": [
       "array([[0.94559726, 0.05440274],\n",
       "       [0.98380062, 0.01619938],\n",
       "       [0.98796694, 0.01203306],\n",
       "       ...,\n",
       "       [0.95041153, 0.04958847],\n",
       "       [0.98727352, 0.01272648],\n",
       "       [0.93425416, 0.06574584]])"
      ]
     },
     "execution_count": 23,
     "metadata": {},
     "output_type": "execute_result"
    }
   ],
   "source": [
    "y_pred=regressor.predict_proba(X_test)\n",
    "y_pred"
   ]
  },
  {
   "cell_type": "code",
   "execution_count": 24,
   "metadata": {},
   "outputs": [
    {
     "data": {
      "text/plain": [
       "RandomForestClassifier(n_estimators=500, random_state=8)"
      ]
     },
     "execution_count": 24,
     "metadata": {},
     "output_type": "execute_result"
    }
   ],
   "source": [
    "rfc = RandomForestClassifier(random_state=8, n_estimators=500)\n",
    "rfc.fit(X_train, y_train)"
   ]
  },
  {
   "cell_type": "code",
   "execution_count": 26,
   "metadata": {},
   "outputs": [
    {
     "name": "stdout",
     "output_type": "stream",
     "text": [
      "Accuracy     0.984300\n",
      "F1 Score     0.868930\n",
      "Recall       0.778290\n",
      "Precision    0.983465\n",
      "Gini         0.777352\n",
      "AUC          0.888676\n",
      "dtype: float64\n",
      "AUC : Mean - 0.6906553 | Std - 0.009485169 | Min - 0.6806543 | Max - 0.7067297\n",
      "GINI : Mean - 0.3813106 | Std - 0.01897034 | Min - 0.3613087 | Max - 0.4134595\n"
     ]
    },
    {
     "data": {
      "image/png": "[encoded data removed]",
      "text/plain": [
       "<Figure size 432x288 with 1 Axes>"
      ]
     },
     "metadata": {
      "needs_background": "light"
     },
     "output_type": "display_data"
    }
   ],
   "source": [
    "train = model_fit_reports(algo =rfc ,X_ = X_train,y_ = y_train, performCV=True, printFeatureImportance=True, cv_folds=5)"
   ]
  },
  {
   "cell_type": "code",
   "execution_count": 27,
   "metadata": {},
   "outputs": [
    {
     "name": "stdout",
     "output_type": "stream",
     "text": [
      "Accuracy     0.924300\n",
      "F1 Score     0.221460\n",
      "Recall       0.161339\n",
      "Precision    0.353005\n",
      "Gini         0.140194\n",
      "AUC          0.570097\n",
      "dtype: float64\n",
      "AUC : Mean - 0.7108249 | Std - 0.007941718 | Min - 0.6990763 | Max - 0.7235647\n",
      "GINI : Mean - 0.4216498 | Std - 0.01588344 | Min - 0.3981527 | Max - 0.4471295\n"
     ]
    },
    {
     "data": {
      "image/png": "[encoded data removed]",
      "text/plain": [
       "<Figure size 432x288 with 1 Axes>"
      ]
     },
     "metadata": {
      "needs_background": "light"
     },
     "output_type": "display_data"
    }
   ],
   "source": [
    "test = model_fit_reports(algo =rfc ,X_ = X_test,y_ = y_test, performCV=True, printFeatureImportance=True, cv_folds=5)"
   ]
  },
  {
   "cell_type": "code",
   "execution_count": null,
   "metadata": {},
   "outputs": [],
   "source": []
  },
  {
   "cell_type": "code",
   "execution_count": 29,
   "metadata": {},
   "outputs": [
    {
     "data": {
      "text/plain": [
       "GradientBoostingClassifier()"
      ]
     },
     "execution_count": 29,
     "metadata": {},
     "output_type": "execute_result"
    }
   ],
   "source": [
    "gbc = GradientBoostingClassifier()\n",
    "gbc.fit(X_train, y_train)"
   ]
  },
  {
   "cell_type": "code",
   "execution_count": 33,
   "metadata": {},
   "outputs": [
    {
     "name": "stdout",
     "output_type": "stream",
     "text": [
      "Accuracy     0.936433\n",
      "F1 Score     0.223850\n",
      "Recall       0.137089\n",
      "Precision    0.609756\n",
      "Gini         0.130802\n",
      "AUC          0.565401\n",
      "dtype: float64\n",
      "AUC : Mean - 0.7598455 | Std - 0.006751376 | Min - 0.7522482 | Max - 0.7693763\n",
      "GINI : Mean - 0.519691 | Std - 0.01350275 | Min - 0.5044964 | Max - 0.5387526\n"
     ]
    },
    {
     "data": {
      "image/png": "[encoded data removed]",
      "text/plain": [
       "<Figure size 432x288 with 1 Axes>"
      ]
     },
     "metadata": {
      "needs_background": "light"
     },
     "output_type": "display_data"
    }
   ],
   "source": [
    "train = model_fit_reports(algo =gbc ,X_ = X_train,y_ = y_train, performCV=True, printFeatureImportance=True, cv_folds=5)"
   ]
  },
  {
   "cell_type": "code",
   "execution_count": null,
   "metadata": {},
   "outputs": [],
   "source": []
  },
  {
   "cell_type": "code",
   "execution_count": 32,
   "metadata": {},
   "outputs": [
    {
     "name": "stdout",
     "output_type": "stream",
     "text": [
      "Accuracy     0.935033\n",
      "F1 Score     0.202210\n",
      "Recall       0.123377\n",
      "Precision    0.560091\n",
      "Gini         0.116448\n",
      "AUC          0.558224\n",
      "dtype: float64\n",
      "AUC : Mean - 0.7621907 | Std - 0.01374327 | Min - 0.7512354 | Max - 0.78864\n",
      "GINI : Mean - 0.5243814 | Std - 0.02748655 | Min - 0.5024708 | Max - 0.5772799\n"
     ]
    },
    {
     "data": {
      "image/png": "[encoded data removed]",
      "text/plain": [
       "<Figure size 432x288 with 1 Axes>"
      ]
     },
     "metadata": {
      "needs_background": "light"
     },
     "output_type": "display_data"
    }
   ],
   "source": [
    "test = model_fit_reports(algo =gbc ,X_ = X_test,y_ = y_test, performCV=True, printFeatureImportance=True, cv_folds=5)"
   ]
  },
  {
   "cell_type": "code",
   "execution_count": 52,
   "metadata": {},
   "outputs": [
    {
     "data": {
      "text/html": [
       "<div>\n",
       "<style scoped>\n",
       "    .dataframe tbody tr th:only-of-type {\n",
       "        vertical-align: middle;\n",
       "    }\n",
       "\n",
       "    .dataframe tbody tr th {\n",
       "        vertical-align: top;\n",
       "    }\n",
       "\n",
       "    .dataframe thead th {\n",
       "        text-align: right;\n",
       "    }\n",
       "</style>\n",
       "<table border=\"1\" class=\"dataframe\">\n",
       "  <thead>\n",
       "    <tr style=\"text-align: right;\">\n",
       "      <th></th>\n",
       "      <th>SeriousDlqin2yrs</th>\n",
       "      <th>age</th>\n",
       "      <th>MonthlyIncome</th>\n",
       "      <th>NumberOfOpenCreditLinesAndLoans</th>\n",
       "      <th>NumberOfTimes90DaysLate</th>\n",
       "    </tr>\n",
       "  </thead>\n",
       "  <tbody>\n",
       "    <tr>\n",
       "      <th>0</th>\n",
       "      <td>1</td>\n",
       "      <td>45</td>\n",
       "      <td>9120.0</td>\n",
       "      <td>13</td>\n",
       "      <td>0</td>\n",
       "    </tr>\n",
       "    <tr>\n",
       "      <th>1</th>\n",
       "      <td>0</td>\n",
       "      <td>40</td>\n",
       "      <td>2600.0</td>\n",
       "      <td>4</td>\n",
       "      <td>0</td>\n",
       "    </tr>\n",
       "    <tr>\n",
       "      <th>2</th>\n",
       "      <td>0</td>\n",
       "      <td>38</td>\n",
       "      <td>3042.0</td>\n",
       "      <td>2</td>\n",
       "      <td>1</td>\n",
       "    </tr>\n",
       "    <tr>\n",
       "      <th>3</th>\n",
       "      <td>0</td>\n",
       "      <td>30</td>\n",
       "      <td>3300.0</td>\n",
       "      <td>5</td>\n",
       "      <td>0</td>\n",
       "    </tr>\n",
       "    <tr>\n",
       "      <th>4</th>\n",
       "      <td>0</td>\n",
       "      <td>49</td>\n",
       "      <td>63588.0</td>\n",
       "      <td>7</td>\n",
       "      <td>0</td>\n",
       "    </tr>\n",
       "  </tbody>\n",
       "</table>\n",
       "</div>"
      ],
      "text/plain": [
       "   SeriousDlqin2yrs  age  MonthlyIncome  NumberOfOpenCreditLinesAndLoans  \\\n",
       "0                 1   45         9120.0                               13   \n",
       "1                 0   40         2600.0                                4   \n",
       "2                 0   38         3042.0                                2   \n",
       "3                 0   30         3300.0                                5   \n",
       "4                 0   49        63588.0                                7   \n",
       "\n",
       "   NumberOfTimes90DaysLate  \n",
       "0                        0  \n",
       "1                        0  \n",
       "2                        1  \n",
       "3                        0  \n",
       "4                        0  "
      ]
     },
     "execution_count": 52,
     "metadata": {},
     "output_type": "execute_result"
    }
   ],
   "source": [
    "train_cleaned.head(5)"
   ]
  },
  {
   "cell_type": "code",
   "execution_count": 65,
   "metadata": {},
   "outputs": [],
   "source": [
    "from array import array\n",
    "ankit=np.array([28,8000,30,0]).reshape(1,-1)\n",
    "ankit_prob=rfc.predict_proba(ankit)"
   ]
  },
  {
   "cell_type": "code",
   "execution_count": 66,
   "metadata": {},
   "outputs": [
    {
     "data": {
      "text/plain": [
       "array([0.98466667, 0.01533333])"
      ]
     },
     "execution_count": 66,
     "metadata": {},
     "output_type": "execute_result"
    }
   ],
   "source": [
    "ankit_prob[0]"
   ]
  },
  {
   "cell_type": "code",
   "execution_count": 69,
   "metadata": {},
   "outputs": [],
   "source": [
    "n_inputs = X_train.shape[1]\n",
    "\n",
    "model = models.Sequential()\n",
    "model.add(layers.Dense(16, activation ='relu', input_shape =(n_inputs, )))\n",
    "model.add(layers.Dense(32,activation = 'relu'))\n",
    "model.add(layers.Dense(1,activation ='sigmoid'))"
   ]
  },
  {
   "cell_type": "code",
   "execution_count": 70,
   "metadata": {},
   "outputs": [],
   "source": [
    "model.compile(optimizer = 'rmsprop',\n",
    "             loss= 'binary_crossentropy',\n",
    "             metrics = ['accuracy'])"
   ]
  },
  {
   "cell_type": "code",
   "execution_count": 71,
   "metadata": {},
   "outputs": [
    {
     "name": "stdout",
     "output_type": "stream",
     "text": [
      "Epoch 1/150\n",
      "235/235 [==============================] - 12s 3ms/step - loss: 24.1586 - accuracy: 0.8916 - val_loss: 2.7883 - val_accuracy: 0.9333\n",
      "Epoch 2/150\n",
      "235/235 [==============================] - 0s 1ms/step - loss: 2.6812 - accuracy: 0.8678 - val_loss: 4.7240 - val_accuracy: 0.9333\n",
      "Epoch 3/150\n",
      "235/235 [==============================] - 0s 1ms/step - loss: 2.7256 - accuracy: 0.8729 - val_loss: 0.3576 - val_accuracy: 0.8903\n",
      "Epoch 4/150\n",
      "235/235 [==============================] - 0s 1ms/step - loss: 2.4410 - accuracy: 0.8658 - val_loss: 0.8353 - val_accuracy: 0.2510\n",
      "Epoch 5/150\n",
      "235/235 [==============================] - 0s 1ms/step - loss: 2.3577 - accuracy: 0.8548 - val_loss: 3.9820 - val_accuracy: 0.9333\n",
      "Epoch 6/150\n",
      "235/235 [==============================] - 0s 1ms/step - loss: 2.5684 - accuracy: 0.8784 - val_loss: 0.5642 - val_accuracy: 0.9334\n",
      "Epoch 7/150\n",
      "235/235 [==============================] - 0s 1ms/step - loss: 2.1692 - accuracy: 0.8754 - val_loss: 2.7417 - val_accuracy: 0.9332\n",
      "Epoch 8/150\n",
      "235/235 [==============================] - 0s 1ms/step - loss: 2.3109 - accuracy: 0.8698 - val_loss: 0.6701 - val_accuracy: 0.9335\n",
      "Epoch 9/150\n",
      "235/235 [==============================] - 0s 1ms/step - loss: 1.8295 - accuracy: 0.8792 - val_loss: 2.5575 - val_accuracy: 0.9333\n",
      "Epoch 10/150\n",
      "235/235 [==============================] - 0s 1ms/step - loss: 1.7470 - accuracy: 0.8824 - val_loss: 2.9024 - val_accuracy: 0.9332\n",
      "Epoch 11/150\n",
      "235/235 [==============================] - 0s 1ms/step - loss: 1.7465 - accuracy: 0.8816 - val_loss: 0.8218 - val_accuracy: 0.9334\n",
      "Epoch 12/150\n",
      "235/235 [==============================] - 0s 1ms/step - loss: 1.6014 - accuracy: 0.8738 - val_loss: 1.5535 - val_accuracy: 0.9333\n",
      "Epoch 13/150\n",
      "235/235 [==============================] - 0s 1ms/step - loss: 1.5192 - accuracy: 0.8762 - val_loss: 2.3376 - val_accuracy: 0.9333\n",
      "Epoch 14/150\n",
      "235/235 [==============================] - 0s 1ms/step - loss: 1.3202 - accuracy: 0.8835 - val_loss: 0.6853 - val_accuracy: 0.9335\n",
      "Epoch 15/150\n",
      "235/235 [==============================] - 0s 1ms/step - loss: 1.1659 - accuracy: 0.8864 - val_loss: 0.7898 - val_accuracy: 0.9333\n",
      "Epoch 16/150\n",
      "235/235 [==============================] - 0s 1ms/step - loss: 1.1093 - accuracy: 0.8969 - val_loss: 1.3271 - val_accuracy: 0.9332\n",
      "Epoch 17/150\n",
      "235/235 [==============================] - 0s 1ms/step - loss: 1.0113 - accuracy: 0.8944 - val_loss: 0.3692 - val_accuracy: 0.9335\n",
      "Epoch 18/150\n",
      "235/235 [==============================] - 0s 1ms/step - loss: 0.9662 - accuracy: 0.8909 - val_loss: 0.3556 - val_accuracy: 0.9333\n",
      "Epoch 19/150\n",
      "235/235 [==============================] - 0s 1ms/step - loss: 0.7750 - accuracy: 0.9024 - val_loss: 1.2126 - val_accuracy: 0.9334\n",
      "Epoch 20/150\n",
      "235/235 [==============================] - 0s 1ms/step - loss: 0.7274 - accuracy: 0.9116 - val_loss: 0.7790 - val_accuracy: 0.9334\n",
      "Epoch 21/150\n",
      "235/235 [==============================] - 0s 1ms/step - loss: 0.6883 - accuracy: 0.9100 - val_loss: 1.3713 - val_accuracy: 0.9334\n",
      "Epoch 22/150\n",
      "235/235 [==============================] - 0s 1ms/step - loss: 0.6361 - accuracy: 0.9185 - val_loss: 0.3477 - val_accuracy: 0.9335\n",
      "Epoch 23/150\n",
      "235/235 [==============================] - 0s 1ms/step - loss: 0.5645 - accuracy: 0.9108 - val_loss: 0.4203 - val_accuracy: 0.9333\n",
      "Epoch 24/150\n",
      "235/235 [==============================] - 0s 2ms/step - loss: 0.5710 - accuracy: 0.9060 - val_loss: 0.7298 - val_accuracy: 0.9333\n",
      "Epoch 25/150\n",
      "235/235 [==============================] - 0s 1ms/step - loss: 0.5391 - accuracy: 0.9131 - val_loss: 0.2456 - val_accuracy: 0.9339\n",
      "Epoch 26/150\n",
      "235/235 [==============================] - 0s 2ms/step - loss: 0.5100 - accuracy: 0.9100 - val_loss: 0.2895 - val_accuracy: 0.9333\n",
      "Epoch 27/150\n",
      "235/235 [==============================] - 0s 2ms/step - loss: 0.4678 - accuracy: 0.9242 - val_loss: 0.3095 - val_accuracy: 0.9348\n",
      "Epoch 28/150\n",
      "235/235 [==============================] - 0s 1ms/step - loss: 0.4767 - accuracy: 0.9158 - val_loss: 0.9517 - val_accuracy: 0.4413\n",
      "Epoch 29/150\n",
      "235/235 [==============================] - 0s 1ms/step - loss: 0.4444 - accuracy: 0.9141 - val_loss: 0.5748 - val_accuracy: 0.9333\n",
      "Epoch 30/150\n",
      "235/235 [==============================] - 0s 1ms/step - loss: 0.4114 - accuracy: 0.9227 - val_loss: 0.2640 - val_accuracy: 0.9333\n",
      "Epoch 31/150\n",
      "235/235 [==============================] - 0s 1ms/step - loss: 0.3938 - accuracy: 0.9235 - val_loss: 0.2343 - val_accuracy: 0.9336\n",
      "Epoch 32/150\n",
      "235/235 [==============================] - 0s 2ms/step - loss: 0.3546 - accuracy: 0.9276 - val_loss: 0.3971 - val_accuracy: 0.9333\n",
      "Epoch 33/150\n",
      "235/235 [==============================] - 0s 1ms/step - loss: 0.3479 - accuracy: 0.9242 - val_loss: 0.3887 - val_accuracy: 0.9334\n",
      "Epoch 34/150\n",
      "235/235 [==============================] - 0s 2ms/step - loss: 0.3755 - accuracy: 0.9200 - val_loss: 0.2923 - val_accuracy: 0.9333\n",
      "Epoch 35/150\n",
      "235/235 [==============================] - 0s 1ms/step - loss: 0.3381 - accuracy: 0.9264 - val_loss: 0.4221 - val_accuracy: 0.9333\n",
      "Epoch 36/150\n",
      "235/235 [==============================] - 0s 1ms/step - loss: 0.3195 - accuracy: 0.9281 - val_loss: 0.2753 - val_accuracy: 0.9336\n",
      "Epoch 37/150\n",
      "235/235 [==============================] - 0s 1ms/step - loss: 0.3235 - accuracy: 0.9303 - val_loss: 0.2323 - val_accuracy: 0.9335\n",
      "Epoch 38/150\n",
      "235/235 [==============================] - 0s 1ms/step - loss: 0.2894 - accuracy: 0.9308 - val_loss: 0.3322 - val_accuracy: 0.9253\n",
      "Epoch 39/150\n",
      "235/235 [==============================] - 0s 1ms/step - loss: 0.2853 - accuracy: 0.9313 - val_loss: 0.3050 - val_accuracy: 0.9355\n",
      "Epoch 40/150\n",
      "235/235 [==============================] - 0s 1ms/step - loss: 0.2795 - accuracy: 0.9305 - val_loss: 0.2295 - val_accuracy: 0.9337\n",
      "Epoch 41/150\n",
      "235/235 [==============================] - 0s 1ms/step - loss: 0.2711 - accuracy: 0.9324 - val_loss: 0.2259 - val_accuracy: 0.9340\n",
      "Epoch 42/150\n",
      "235/235 [==============================] - 0s 1ms/step - loss: 0.2754 - accuracy: 0.9283 - val_loss: 0.2282 - val_accuracy: 0.9340\n",
      "Epoch 43/150\n",
      "235/235 [==============================] - 0s 1ms/step - loss: 0.2649 - accuracy: 0.9310 - val_loss: 0.2389 - val_accuracy: 0.9336\n",
      "Epoch 44/150\n",
      "235/235 [==============================] - 0s 1ms/step - loss: 0.2715 - accuracy: 0.9288 - val_loss: 0.2277 - val_accuracy: 0.9338\n",
      "Epoch 45/150\n",
      "235/235 [==============================] - 0s 1ms/step - loss: 0.2557 - accuracy: 0.9310 - val_loss: 0.2349 - val_accuracy: 0.9339\n",
      "Epoch 46/150\n",
      "235/235 [==============================] - 0s 1ms/step - loss: 0.2495 - accuracy: 0.9317 - val_loss: 0.3710 - val_accuracy: 0.9058\n",
      "Epoch 47/150\n",
      "235/235 [==============================] - 0s 1ms/step - loss: 0.2520 - accuracy: 0.9329 - val_loss: 0.2781 - val_accuracy: 0.9334\n",
      "Epoch 48/150\n",
      "235/235 [==============================] - 0s 1ms/step - loss: 0.2437 - accuracy: 0.9321 - val_loss: 0.2270 - val_accuracy: 0.9338\n",
      "Epoch 49/150\n",
      "235/235 [==============================] - 0s 1ms/step - loss: 0.2367 - accuracy: 0.9333 - val_loss: 0.2344 - val_accuracy: 0.9335\n",
      "Epoch 50/150\n",
      "235/235 [==============================] - 0s 1ms/step - loss: 0.2315 - accuracy: 0.9349 - val_loss: 0.2238 - val_accuracy: 0.9334\n",
      "Epoch 51/150\n",
      "235/235 [==============================] - 0s 1ms/step - loss: 0.2331 - accuracy: 0.9336 - val_loss: 0.2176 - val_accuracy: 0.9348\n",
      "Epoch 52/150\n",
      "235/235 [==============================] - 0s 1ms/step - loss: 0.2324 - accuracy: 0.9330 - val_loss: 0.2519 - val_accuracy: 0.9334\n",
      "Epoch 53/150\n",
      "235/235 [==============================] - 0s 1ms/step - loss: 0.2333 - accuracy: 0.9331 - val_loss: 0.2225 - val_accuracy: 0.9334\n",
      "Epoch 54/150\n",
      "235/235 [==============================] - 0s 1ms/step - loss: 0.2285 - accuracy: 0.9339 - val_loss: 0.2184 - val_accuracy: 0.9343\n",
      "Epoch 55/150\n",
      "235/235 [==============================] - 0s 1ms/step - loss: 0.2280 - accuracy: 0.9341 - val_loss: 0.2178 - val_accuracy: 0.9333\n",
      "Epoch 56/150\n",
      "235/235 [==============================] - 0s 1ms/step - loss: 0.2266 - accuracy: 0.9331 - val_loss: 0.2243 - val_accuracy: 0.9336\n",
      "Epoch 57/150\n",
      "235/235 [==============================] - 0s 1ms/step - loss: 0.2279 - accuracy: 0.9330 - val_loss: 0.2790 - val_accuracy: 0.9335\n",
      "Epoch 58/150\n",
      "235/235 [==============================] - 0s 1ms/step - loss: 0.2238 - accuracy: 0.9346 - val_loss: 0.2315 - val_accuracy: 0.9342\n",
      "Epoch 59/150\n",
      "235/235 [==============================] - 0s 1ms/step - loss: 0.2249 - accuracy: 0.9349 - val_loss: 0.2193 - val_accuracy: 0.9345\n",
      "Epoch 60/150\n",
      "235/235 [==============================] - 0s 1ms/step - loss: 0.2198 - accuracy: 0.9353 - val_loss: 0.2155 - val_accuracy: 0.9341\n",
      "Epoch 61/150\n",
      "235/235 [==============================] - 0s 1ms/step - loss: 0.2202 - accuracy: 0.9353 - val_loss: 0.2141 - val_accuracy: 0.9346\n",
      "Epoch 62/150\n",
      "235/235 [==============================] - 0s 1ms/step - loss: 0.2304 - accuracy: 0.9334 - val_loss: 0.2164 - val_accuracy: 0.9346\n",
      "Epoch 63/150\n",
      "235/235 [==============================] - 0s 1ms/step - loss: 0.2230 - accuracy: 0.9354 - val_loss: 0.2172 - val_accuracy: 0.9345\n",
      "Epoch 64/150\n",
      "235/235 [==============================] - 0s 1ms/step - loss: 0.2225 - accuracy: 0.9350 - val_loss: 0.2271 - val_accuracy: 0.9341\n",
      "Epoch 65/150\n",
      "235/235 [==============================] - 0s 1ms/step - loss: 0.2192 - accuracy: 0.9360 - val_loss: 0.2166 - val_accuracy: 0.9347\n",
      "Epoch 66/150\n",
      "235/235 [==============================] - 0s 1ms/step - loss: 0.2194 - accuracy: 0.9364 - val_loss: 0.2186 - val_accuracy: 0.9352\n",
      "Epoch 67/150\n",
      "235/235 [==============================] - 0s 1ms/step - loss: 0.2274 - accuracy: 0.9340 - val_loss: 0.2182 - val_accuracy: 0.9347\n",
      "Epoch 68/150\n",
      "235/235 [==============================] - 0s 1ms/step - loss: 0.2182 - accuracy: 0.9358 - val_loss: 0.2403 - val_accuracy: 0.9345\n",
      "Epoch 69/150\n",
      "235/235 [==============================] - 0s 2ms/step - loss: 0.2174 - accuracy: 0.9353 - val_loss: 0.2190 - val_accuracy: 0.9347\n",
      "Epoch 70/150\n",
      "235/235 [==============================] - 0s 1ms/step - loss: 0.2203 - accuracy: 0.9350 - val_loss: 0.2162 - val_accuracy: 0.9348\n",
      "Epoch 71/150\n",
      "235/235 [==============================] - 0s 1ms/step - loss: 0.2195 - accuracy: 0.9348 - val_loss: 0.2156 - val_accuracy: 0.9347\n",
      "Epoch 72/150\n",
      "235/235 [==============================] - 0s 1ms/step - loss: 0.2218 - accuracy: 0.9337 - val_loss: 0.2112 - val_accuracy: 0.9348\n",
      "Epoch 73/150\n",
      "235/235 [==============================] - 0s 2ms/step - loss: 0.2131 - accuracy: 0.9368 - val_loss: 0.2123 - val_accuracy: 0.9351\n",
      "Epoch 74/150\n",
      "235/235 [==============================] - 0s 1ms/step - loss: 0.2178 - accuracy: 0.9351 - val_loss: 0.2135 - val_accuracy: 0.9346\n",
      "Epoch 75/150\n",
      "235/235 [==============================] - 0s 2ms/step - loss: 0.2200 - accuracy: 0.9341 - val_loss: 0.2087 - val_accuracy: 0.9350\n",
      "Epoch 76/150\n",
      "235/235 [==============================] - 0s 1ms/step - loss: 0.2165 - accuracy: 0.9361 - val_loss: 0.2111 - val_accuracy: 0.9349\n",
      "Epoch 77/150\n",
      "235/235 [==============================] - 0s 1ms/step - loss: 0.2189 - accuracy: 0.9347 - val_loss: 0.2125 - val_accuracy: 0.9350\n",
      "Epoch 78/150\n",
      "235/235 [==============================] - 0s 2ms/step - loss: 0.2196 - accuracy: 0.9356 - val_loss: 0.2112 - val_accuracy: 0.9350\n",
      "Epoch 79/150\n",
      "235/235 [==============================] - 0s 1ms/step - loss: 0.2158 - accuracy: 0.9357 - val_loss: 0.2236 - val_accuracy: 0.9338\n",
      "Epoch 80/150\n",
      "235/235 [==============================] - 0s 1ms/step - loss: 0.2168 - accuracy: 0.9353 - val_loss: 0.2480 - val_accuracy: 0.9337\n",
      "Epoch 81/150\n",
      "235/235 [==============================] - 0s 1ms/step - loss: 0.2189 - accuracy: 0.9345 - val_loss: 0.2091 - val_accuracy: 0.9347\n",
      "Epoch 82/150\n",
      "235/235 [==============================] - 0s 1ms/step - loss: 0.2154 - accuracy: 0.9354 - val_loss: 0.2609 - val_accuracy: 0.9348\n",
      "Epoch 83/150\n",
      "235/235 [==============================] - 0s 1ms/step - loss: 0.2177 - accuracy: 0.9354 - val_loss: 0.2338 - val_accuracy: 0.9349\n",
      "Epoch 84/150\n",
      "235/235 [==============================] - 0s 1ms/step - loss: 0.2213 - accuracy: 0.9348 - val_loss: 0.2162 - val_accuracy: 0.9345\n",
      "Epoch 85/150\n",
      "235/235 [==============================] - 0s 1ms/step - loss: 0.2132 - accuracy: 0.9358 - val_loss: 0.2223 - val_accuracy: 0.9348\n",
      "Epoch 86/150\n",
      "235/235 [==============================] - 0s 1ms/step - loss: 0.2205 - accuracy: 0.9350 - val_loss: 0.2154 - val_accuracy: 0.9345\n",
      "Epoch 87/150\n",
      "235/235 [==============================] - 0s 2ms/step - loss: 0.2150 - accuracy: 0.9356 - val_loss: 0.2187 - val_accuracy: 0.9349\n",
      "Epoch 88/150\n",
      "235/235 [==============================] - 0s 1ms/step - loss: 0.2151 - accuracy: 0.9358 - val_loss: 0.2236 - val_accuracy: 0.9351\n",
      "Epoch 89/150\n",
      "235/235 [==============================] - 0s 1ms/step - loss: 0.2152 - accuracy: 0.9351 - val_loss: 0.2126 - val_accuracy: 0.9347\n",
      "Epoch 90/150\n",
      "235/235 [==============================] - 0s 2ms/step - loss: 0.2214 - accuracy: 0.9346 - val_loss: 0.2161 - val_accuracy: 0.9344\n",
      "Epoch 91/150\n",
      "235/235 [==============================] - 0s 1ms/step - loss: 0.2164 - accuracy: 0.9360 - val_loss: 0.2176 - val_accuracy: 0.9350\n",
      "Epoch 92/150\n",
      "235/235 [==============================] - 0s 1ms/step - loss: 0.2163 - accuracy: 0.9344 - val_loss: 0.2259 - val_accuracy: 0.9349\n",
      "Epoch 93/150\n",
      "235/235 [==============================] - 0s 1ms/step - loss: 0.2170 - accuracy: 0.9355 - val_loss: 0.2210 - val_accuracy: 0.9346\n",
      "Epoch 94/150\n",
      "235/235 [==============================] - 0s 1ms/step - loss: 0.2163 - accuracy: 0.9342 - val_loss: 0.2134 - val_accuracy: 0.9346\n",
      "Epoch 95/150\n",
      "235/235 [==============================] - 0s 1ms/step - loss: 0.2156 - accuracy: 0.9356 - val_loss: 0.2129 - val_accuracy: 0.9348\n",
      "Epoch 96/150\n",
      "235/235 [==============================] - 0s 1ms/step - loss: 0.2134 - accuracy: 0.9350 - val_loss: 0.2107 - val_accuracy: 0.9348\n",
      "Epoch 97/150\n",
      "235/235 [==============================] - 0s 1ms/step - loss: 0.2226 - accuracy: 0.9353 - val_loss: 0.2154 - val_accuracy: 0.9349\n",
      "Epoch 98/150\n",
      "235/235 [==============================] - 0s 2ms/step - loss: 0.2214 - accuracy: 0.9333 - val_loss: 0.2118 - val_accuracy: 0.9348\n",
      "Epoch 99/150\n",
      "235/235 [==============================] - 0s 1ms/step - loss: 0.2164 - accuracy: 0.9339 - val_loss: 0.2164 - val_accuracy: 0.9349\n",
      "Epoch 100/150\n",
      "235/235 [==============================] - 0s 1ms/step - loss: 0.2196 - accuracy: 0.9342 - val_loss: 0.2681 - val_accuracy: 0.9281\n",
      "Epoch 101/150\n",
      "235/235 [==============================] - 0s 1ms/step - loss: 0.2186 - accuracy: 0.9336 - val_loss: 0.2106 - val_accuracy: 0.9350\n",
      "Epoch 102/150\n",
      "235/235 [==============================] - 0s 1ms/step - loss: 0.2133 - accuracy: 0.9350 - val_loss: 0.2377 - val_accuracy: 0.9333\n",
      "Epoch 103/150\n",
      "235/235 [==============================] - 0s 1ms/step - loss: 0.2126 - accuracy: 0.9349 - val_loss: 0.2156 - val_accuracy: 0.9348\n",
      "Epoch 104/150\n",
      "235/235 [==============================] - 0s 1ms/step - loss: 0.2119 - accuracy: 0.9356 - val_loss: 0.2200 - val_accuracy: 0.9349\n",
      "Epoch 105/150\n",
      "235/235 [==============================] - 0s 1ms/step - loss: 0.2119 - accuracy: 0.9354 - val_loss: 0.2095 - val_accuracy: 0.9333\n",
      "Epoch 106/150\n",
      "235/235 [==============================] - 0s 1ms/step - loss: 0.2144 - accuracy: 0.9353 - val_loss: 0.2131 - val_accuracy: 0.9351\n",
      "Epoch 107/150\n",
      "235/235 [==============================] - 0s 1ms/step - loss: 0.2138 - accuracy: 0.9354 - val_loss: 0.2135 - val_accuracy: 0.9346\n",
      "Epoch 108/150\n",
      "235/235 [==============================] - 0s 1ms/step - loss: 0.2209 - accuracy: 0.9333 - val_loss: 0.2138 - val_accuracy: 0.9349\n",
      "Epoch 109/150\n",
      "235/235 [==============================] - 0s 1ms/step - loss: 0.2163 - accuracy: 0.9345 - val_loss: 0.2092 - val_accuracy: 0.9339\n",
      "Epoch 110/150\n",
      "235/235 [==============================] - 0s 1ms/step - loss: 0.2121 - accuracy: 0.9353 - val_loss: 0.2273 - val_accuracy: 0.9349\n",
      "Epoch 111/150\n",
      "235/235 [==============================] - 0s 1ms/step - loss: 0.2147 - accuracy: 0.9347 - val_loss: 0.2277 - val_accuracy: 0.9307\n",
      "Epoch 112/150\n",
      "235/235 [==============================] - 0s 1ms/step - loss: 0.2158 - accuracy: 0.9336 - val_loss: 0.2123 - val_accuracy: 0.9322\n",
      "Epoch 113/150\n",
      "235/235 [==============================] - 0s 1ms/step - loss: 0.2105 - accuracy: 0.9354 - val_loss: 0.2283 - val_accuracy: 0.9325\n",
      "Epoch 114/150\n",
      "235/235 [==============================] - 0s 1ms/step - loss: 0.2156 - accuracy: 0.9341 - val_loss: 0.2108 - val_accuracy: 0.9327\n",
      "Epoch 115/150\n",
      "235/235 [==============================] - 0s 1ms/step - loss: 0.2151 - accuracy: 0.9347 - val_loss: 0.2183 - val_accuracy: 0.9342\n",
      "Epoch 116/150\n",
      "235/235 [==============================] - 0s 1ms/step - loss: 0.2137 - accuracy: 0.9352 - val_loss: 0.2182 - val_accuracy: 0.9348\n",
      "Epoch 117/150\n",
      "235/235 [==============================] - 0s 1ms/step - loss: 0.2137 - accuracy: 0.9355 - val_loss: 0.2104 - val_accuracy: 0.9346\n",
      "Epoch 118/150\n",
      "235/235 [==============================] - 0s 2ms/step - loss: 0.2134 - accuracy: 0.9343 - val_loss: 0.2226 - val_accuracy: 0.9348\n",
      "Epoch 119/150\n",
      "235/235 [==============================] - 0s 2ms/step - loss: 0.2128 - accuracy: 0.9347 - val_loss: 0.2116 - val_accuracy: 0.9343\n",
      "Epoch 120/150\n",
      "235/235 [==============================] - 0s 2ms/step - loss: 0.2145 - accuracy: 0.9350 - val_loss: 0.2106 - val_accuracy: 0.9344\n",
      "Epoch 121/150\n",
      "235/235 [==============================] - 0s 1ms/step - loss: 0.2179 - accuracy: 0.9349 - val_loss: 0.2176 - val_accuracy: 0.9351\n",
      "Epoch 122/150\n",
      "235/235 [==============================] - 0s 2ms/step - loss: 0.2182 - accuracy: 0.9347 - val_loss: 0.2135 - val_accuracy: 0.9344\n",
      "Epoch 123/150\n",
      "235/235 [==============================] - 0s 2ms/step - loss: 0.2135 - accuracy: 0.9362 - val_loss: 0.2080 - val_accuracy: 0.9349\n",
      "Epoch 124/150\n",
      "235/235 [==============================] - 0s 2ms/step - loss: 0.2138 - accuracy: 0.9355 - val_loss: 0.2213 - val_accuracy: 0.9349\n",
      "Epoch 125/150\n",
      "235/235 [==============================] - 0s 2ms/step - loss: 0.2125 - accuracy: 0.9360 - val_loss: 0.2089 - val_accuracy: 0.9343\n",
      "Epoch 126/150\n",
      "235/235 [==============================] - 0s 1ms/step - loss: 0.2127 - accuracy: 0.9352 - val_loss: 0.2101 - val_accuracy: 0.9335\n",
      "Epoch 127/150\n",
      "235/235 [==============================] - 0s 1ms/step - loss: 0.2120 - accuracy: 0.9347 - val_loss: 0.2135 - val_accuracy: 0.9345\n",
      "Epoch 128/150\n",
      "235/235 [==============================] - 0s 1ms/step - loss: 0.2153 - accuracy: 0.9353 - val_loss: 0.2247 - val_accuracy: 0.9332\n",
      "Epoch 129/150\n",
      "235/235 [==============================] - 0s 1ms/step - loss: 0.2183 - accuracy: 0.9349 - val_loss: 0.2155 - val_accuracy: 0.9352\n",
      "Epoch 130/150\n",
      "235/235 [==============================] - 0s 1ms/step - loss: 0.2169 - accuracy: 0.9342 - val_loss: 0.2098 - val_accuracy: 0.9351\n",
      "Epoch 131/150\n",
      "235/235 [==============================] - 0s 1ms/step - loss: 0.2162 - accuracy: 0.9338 - val_loss: 0.2247 - val_accuracy: 0.9348\n",
      "Epoch 132/150\n",
      "235/235 [==============================] - 0s 1ms/step - loss: 0.2212 - accuracy: 0.9336 - val_loss: 0.2130 - val_accuracy: 0.9332\n",
      "Epoch 133/150\n",
      "235/235 [==============================] - 0s 2ms/step - loss: 0.2158 - accuracy: 0.9351 - val_loss: 0.2161 - val_accuracy: 0.9338\n",
      "Epoch 134/150\n",
      "235/235 [==============================] - 0s 1ms/step - loss: 0.2176 - accuracy: 0.9342 - val_loss: 0.2110 - val_accuracy: 0.9333\n",
      "Epoch 135/150\n",
      "235/235 [==============================] - 0s 1ms/step - loss: 0.2166 - accuracy: 0.9343 - val_loss: 0.2166 - val_accuracy: 0.9348\n",
      "Epoch 136/150\n",
      "235/235 [==============================] - 0s 1ms/step - loss: 0.2153 - accuracy: 0.9334 - val_loss: 0.2100 - val_accuracy: 0.9346\n",
      "Epoch 137/150\n",
      "235/235 [==============================] - 0s 1ms/step - loss: 0.2134 - accuracy: 0.9349 - val_loss: 0.2221 - val_accuracy: 0.9338\n",
      "Epoch 138/150\n",
      "235/235 [==============================] - 0s 1ms/step - loss: 0.2155 - accuracy: 0.9335 - val_loss: 0.2116 - val_accuracy: 0.9345\n",
      "Epoch 139/150\n",
      "235/235 [==============================] - 0s 1ms/step - loss: 0.2164 - accuracy: 0.9346 - val_loss: 0.2116 - val_accuracy: 0.9344\n",
      "Epoch 140/150\n",
      "235/235 [==============================] - 0s 1ms/step - loss: 0.2164 - accuracy: 0.9333 - val_loss: 0.2135 - val_accuracy: 0.9347\n",
      "Epoch 141/150\n",
      "235/235 [==============================] - 0s 1ms/step - loss: 0.2121 - accuracy: 0.9347 - val_loss: 0.2130 - val_accuracy: 0.9334\n",
      "Epoch 142/150\n",
      "235/235 [==============================] - 0s 1ms/step - loss: 0.2163 - accuracy: 0.9334 - val_loss: 0.2102 - val_accuracy: 0.9348\n",
      "Epoch 143/150\n",
      "235/235 [==============================] - 0s 1ms/step - loss: 0.2166 - accuracy: 0.9337 - val_loss: 0.2102 - val_accuracy: 0.9348\n",
      "Epoch 144/150\n",
      "235/235 [==============================] - 0s 1ms/step - loss: 0.2170 - accuracy: 0.9342 - val_loss: 0.2306 - val_accuracy: 0.9332\n",
      "Epoch 145/150\n",
      "235/235 [==============================] - 0s 1ms/step - loss: 0.2135 - accuracy: 0.9327 - val_loss: 0.2082 - val_accuracy: 0.9348\n",
      "Epoch 146/150\n",
      "235/235 [==============================] - 0s 1ms/step - loss: 0.2150 - accuracy: 0.9345 - val_loss: 0.2151 - val_accuracy: 0.9334\n",
      "Epoch 147/150\n",
      "235/235 [==============================] - 0s 1ms/step - loss: 0.2145 - accuracy: 0.9342 - val_loss: 0.2090 - val_accuracy: 0.9348\n",
      "Epoch 148/150\n",
      "235/235 [==============================] - 0s 1ms/step - loss: 0.2154 - accuracy: 0.9351 - val_loss: 0.2223 - val_accuracy: 0.9334\n",
      "Epoch 149/150\n",
      "235/235 [==============================] - 0s 1ms/step - loss: 0.2227 - accuracy: 0.9329 - val_loss: 0.2208 - val_accuracy: 0.9345\n",
      "Epoch 150/150\n",
      "235/235 [==============================] - 0s 1ms/step - loss: 0.2243 - accuracy: 0.9315 - val_loss: 0.2150 - val_accuracy: 0.9344\n"
     ]
    }
   ],
   "source": [
    "history = model.fit(X_train,\n",
    "                   y_train,\n",
    "                   epochs=150,\n",
    "                   batch_size=512,\n",
    "                   validation_data=(X_test,y_test))"
   ]
  },
  {
   "cell_type": "code",
   "execution_count": 72,
   "metadata": {},
   "outputs": [
    {
     "name": "stdout",
     "output_type": "stream",
     "text": [
      "938/938 [==============================] - 1s 756us/step - loss: 0.2150 - accuracy: 0.9344\n"
     ]
    }
   ],
   "source": [
    "score = model.evaluate(X_test, y_test)"
   ]
  },
  {
   "cell_type": "code",
   "execution_count": 73,
   "metadata": {},
   "outputs": [
    {
     "name": "stdout",
     "output_type": "stream",
     "text": [
      "The AUC of the Test model is  0.7456282199120974\n",
      "The Gini of the Test model is  0.49125643982419476\n"
     ]
    }
   ],
   "source": [
    "#GINI & AUC \n",
    "pred  = model.predict(X_test)\n",
    "fpr, tpr, thresholds = roc_curve(y_test, pred)\n",
    "roc_auc = auc(fpr, tpr)\n",
    "print(\"The AUC of the Test model is \", roc_auc)\n",
    "Gini   = 2*roc_auc - 1\n",
    "print(\"The Gini of the Test model is \", Gini)"
   ]
  },
  {
   "cell_type": "code",
   "execution_count": 74,
   "metadata": {},
   "outputs": [],
   "source": [
    "import pickle"
   ]
  },
  {
   "cell_type": "code",
   "execution_count": 125,
   "metadata": {},
   "outputs": [],
   "source": [
    "fileName='final_rfc_credit_Model.pkl'\n",
    "pickle.dump(rfc,open(fileName, 'wb'))"
   ]
  },
  {
   "cell_type": "code",
   "execution_count": 83,
   "metadata": {},
   "outputs": [],
   "source": [
    "model.save('final_DL_credit_Model.h5')"
   ]
  },
  {
   "cell_type": "code",
   "execution_count": 104,
   "metadata": {},
   "outputs": [
    {
     "name": "stdout",
     "output_type": "stream",
     "text": [
      "rfc:  [[0.85 0.15]]\n",
      "gbc:  [[0.89809903 0.10190097]]\n",
      "regressor:  [[9.99808122e-01 1.91878293e-04]]\n",
      "DL:  [[0.04439619]]\n",
      "rfc:  [0]\n",
      "gbc:  [0]\n",
      "regressor:  [0]\n",
      "DL:  [[0.04439619]]\n"
     ]
    }
   ],
   "source": [
    "from array import array\n",
    "ankit=np.array([28,20000,20,0]).reshape(1,-1)\n",
    "ankit_prob=rfc.predict_proba(ankit)\n",
    "print(\"rfc: \",ankit_prob)\n",
    "print(\"gbc: \",gbc.predict_proba(ankit))\n",
    "print(\"regressor: \",regressor.predict_proba(ankit))\n",
    "print(\"DL: \",model.predict_proba(ankit))\n",
    "\n",
    "print(\"rfc: \",rfc.predict(ankit))\n",
    "print(\"gbc: \",gbc.predict(ankit))\n",
    "print(\"regressor: \",regressor.predict(ankit))\n",
    "print(\"DL: \",model.predict(ankit))"
   ]
  },
  {
   "cell_type": "code",
   "execution_count": 108,
   "metadata": {},
   "outputs": [],
   "source": [
    "with open('final_rfc_credit_model.pkl', 'rb') as pickle_file:\n",
    "    loaded_model = pickle.load(pickle_file)"
   ]
  },
  {
   "cell_type": "code",
   "execution_count": 112,
   "metadata": {},
   "outputs": [
    {
     "data": {
      "text/plain": [
       "0.85"
      ]
     },
     "execution_count": 112,
     "metadata": {},
     "output_type": "execute_result"
    }
   ],
   "source": [
    "loaded_model.predict_proba(ankit)[0][0]"
   ]
  },
  {
   "cell_type": "code",
   "execution_count": 105,
   "metadata": {},
   "outputs": [
    {
     "data": {
      "text/plain": [
       "Index(['age', 'MonthlyIncome', 'NumberOfOpenCreditLinesAndLoans',\n",
       "       'NumberOfTimes90DaysLate'],\n",
       "      dtype='object')"
      ]
     },
     "execution_count": 105,
     "metadata": {},
     "output_type": "execute_result"
    }
   ],
   "source": [
    "X_train.columns"
   ]
  },
  {
   "cell_type": "code",
   "execution_count": 115,
   "metadata": {},
   "outputs": [],
   "source": [
    "import os\n",
    "dirname = os.path.dirname('__file__')\n",
    "filename = os.path.join(dirname, 'final_rfc_credit_model.pkl')"
   ]
  },
  {
   "cell_type": "code",
   "execution_count": 117,
   "metadata": {},
   "outputs": [
    {
     "name": "stdout",
     "output_type": "stream",
     "text": [
      "final_rfc_credit_model.pkl\n"
     ]
    }
   ],
   "source": [
    "print(filename)"
   ]
  },
  {
   "cell_type": "code",
   "execution_count": 119,
   "metadata": {},
   "outputs": [
    {
     "name": "stdout",
     "output_type": "stream",
     "text": [
      "C:\\Users\\ankit\\Desktop\\Hackademy\\Notebook\n"
     ]
    }
   ],
   "source": [
    "print(os.path.dirname(os.path.realpath(filename)))"
   ]
  },
  {
   "cell_type": "code",
   "execution_count": 122,
   "metadata": {},
   "outputs": [
    {
     "name": "stdout",
     "output_type": "stream",
     "text": [
      "final_rfc_credit_model.pkl\n"
     ]
    }
   ],
   "source": [
    "print(os.path.join(dirname, filename))"
   ]
  },
  {
   "cell_type": "code",
   "execution_count": 123,
   "metadata": {},
   "outputs": [],
   "source": [
    "path_rel=os.path.dirname(os.path.realpath(filename))+'\\\\'+filename"
   ]
  },
  {
   "cell_type": "code",
   "execution_count": 124,
   "metadata": {},
   "outputs": [
    {
     "name": "stdout",
     "output_type": "stream",
     "text": [
      "C:\\Users\\ankit\\Desktop\\Hackademy\\Notebook\\final_rfc_credit_model.pkl\n"
     ]
    }
   ],
   "source": [
    "print(path_rel)"
   ]
  }
 ],
 "metadata": {
  "kernelspec": {
   "display_name": "Python 3",
   "language": "python",
   "name": "python3"
  },
  "language_info": {
   "codemirror_mode": {
    "name": "ipython",
    "version": 3
   },
   "file_extension": ".py",
   "mimetype": "text/x-python",
   "name": "python",
   "nbconvert_exporter": "python",
   "pygments_lexer": "ipython3",
   "version": "3.7.6"
  }
 },
 "nbformat": 4,
 "nbformat_minor": 4
}
